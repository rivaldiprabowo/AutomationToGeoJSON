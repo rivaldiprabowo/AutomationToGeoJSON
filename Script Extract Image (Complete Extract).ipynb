{
 "cells": [
  {
   "cell_type": "markdown",
   "metadata": {},
   "source": [
    "# Application to Extract Image from Excel"
   ]
  },
  {
   "cell_type": "markdown",
   "metadata": {},
   "source": [
    "## 1. Import Library"
   ]
  },
  {
   "cell_type": "code",
   "execution_count": 3,
   "metadata": {},
   "outputs": [],
   "source": [
    "import os\n",
    "import pandas as pd\n",
    "import numpy as np\n",
    "from openpyxl_image_loader import SheetImageLoader\n",
    "from openpyxl import load_workbook\n",
    "from openpyxl.drawing.image import Image\n",
    "from PIL import Image\n",
    "import io\n",
    "import traceback\n",
    "import re\n",
    "import time\n",
    "import gc\n",
    "import xlwings as xw\n",
    "from concurrent.futures import ThreadPoolExecutor, as_completed"
   ]
  },
  {
   "cell_type": "markdown",
   "metadata": {},
   "source": [
    "## 2. Application to Extract Images from Excel"
   ]
  },
  {
   "cell_type": "markdown",
   "metadata": {},
   "source": [
    "### 2.1. Function Codes"
   ]
  },
  {
   "cell_type": "code",
   "execution_count": 4,
   "metadata": {},
   "outputs": [],
   "source": [
    "def unique_column_names(columns):\n",
    "    \"\"\"Ensure column names are unique by appending a suffix.\"\"\"\n",
    "    seen = {}\n",
    "    new_columns = []\n",
    "    for col in columns:\n",
    "        if col in seen:\n",
    "            seen[col] += 1\n",
    "            new_columns.append(f\"{col}_{seen[col]}\")\n",
    "        else:\n",
    "            seen[col] = 0\n",
    "            new_columns.append(col)\n",
    "    return new_columns\n",
    "\n",
    "def extract_images_from_excel(file_path, output_folder):\n",
    "    \"\"\"Extract images from columns containing 'DOKUMENTASI' in all sheets and save them.\"\"\"\n",
    "    try:\n",
    "        start_time = time.time()\n",
    "        wb = load_workbook(file_path, data_only=True)\n",
    "        \n",
    "        file_name_clean = os.path.splitext(os.path.basename(file_path))[0]\n",
    "        \n",
    "        total_images = 0\n",
    "        extracted_images = 0\n",
    "        \n",
    "        for sheet_name in wb.sheetnames:\n",
    "            sheet_start_time = time.time()\n",
    "            ws = wb[sheet_name]\n",
    "            image_loader = SheetImageLoader(ws)\n",
    "            \n",
    "            merged_cells = list(ws.merged_cells)\n",
    "            if merged_cells:\n",
    "                print(f\"📄 Handling {len(merged_cells)} merged cells in sheet '{sheet_name}'\")\n",
    "                for merge in merged_cells:\n",
    "                    ws.unmerge_cells(str(merge))\n",
    "                    top_left = ws.cell(merge.min_row, merge.min_col).value\n",
    "                    for row in range(merge.min_row, merge.max_row + 1):\n",
    "                        for col in range(merge.min_col, merge.max_col + 1):\n",
    "                            ws.cell(row, col, top_left)\n",
    "            \n",
    "            print(f\"📄 Converting sheet '{sheet_name}' to DataFrame\")\n",
    "            data = list(ws.values)\n",
    "            df = pd.DataFrame(data)\n",
    "            \n",
    "            try:\n",
    "                header_index = df[df.apply(lambda x: x.astype(str).str.contains(\"NO\", case=False, na=False)).any(axis=1)].index[0]\n",
    "            except IndexError:\n",
    "                print(f\"⚠️ Could not identify header row in sheet '{sheet_name}', skipping...\")\n",
    "                continue\n",
    "            \n",
    "            df.columns = df.iloc[2].astype(str).str.strip()\n",
    "            df = df.dropna(axis=1, how=\"all\")\n",
    "            df = df.loc[:, ~df.columns.str.contains(\"REKAP\", case=False, na=False)]\n",
    "            df = df.drop(index=[0, 1, 4]).reset_index(drop=True)\n",
    "            \n",
    "            merged_header = [a if a == b else f\"{a} {b}\" for a, b in zip(df.iloc[0], df.iloc[1])]\n",
    "            df.columns = unique_column_names(merged_header)\n",
    "            df = df.drop(index=[0, 1]).reset_index(drop=True)\n",
    "            df.columns = df.columns.str.upper().str.strip()\n",
    "            \n",
    "            dokumentasi_cols = [col for col in df.columns if \"DOKUMENTASI\" in col.upper()]\n",
    "            \n",
    "            if not dokumentasi_cols:\n",
    "                print(f\"ℹ️ No 'DOKUMENTASI' columns found in sheet '{sheet_name}'\")\n",
    "                continue\n",
    "            \n",
    "            print(f\"🔍 Found {len(dokumentasi_cols)} 'DOKUMENTASI' columns in sheet '{sheet_name}'\")\n",
    "            \n",
    "            cells_with_images = []\n",
    "            for row_idx in range(2, ws.max_row + 1):\n",
    "                for col_idx, col_name in enumerate(df.columns):\n",
    "                    if col_name not in dokumentasi_cols:\n",
    "                        continue\n",
    "                    excel_col_idx = col_idx + 1\n",
    "                    cell_address = ws.cell(row=row_idx, column=excel_col_idx).coordinate\n",
    "                    if image_loader.image_in(cell_address):\n",
    "                        cells_with_images.append({\n",
    "                            'cell_address': cell_address,\n",
    "                            'col_name': col_name,\n",
    "                            'row_idx': row_idx,\n",
    "                        })\n",
    "            \n",
    "            sheet_images = len(cells_with_images)\n",
    "            total_images += sheet_images\n",
    "            \n",
    "            if sheet_images == 0:\n",
    "                print(f\"ℹ️ No images found in 'DOKUMENTASI' columns in sheet '{sheet_name}'\")\n",
    "                continue\n",
    "            \n",
    "            print(f\"🔍 Found {sheet_images} images in sheet '{sheet_name}'\")\n",
    "            sheet_extracted = 0\n",
    "            \n",
    "            for img_info in cells_with_images:\n",
    "                try:\n",
    "                    img = image_loader.get(img_info['cell_address'])\n",
    "                    img_path = os.path.join(output_folder, f\"{file_name_clean}_Sheet_{sheet_name}_Column_{img_info['col_name']}_Row_{img_info['row_idx']}.png\")\n",
    "                    img.save(img_path, format=\"PNG\")\n",
    "                    sheet_extracted += 1\n",
    "                    extracted_images += 1\n",
    "                except Exception as e:\n",
    "                    print(f\"❌ Error saving image at {img_info['cell_address']} in file '{file_name_clean}': {str(e)}\")\n",
    "            \n",
    "            print(f\"📊 Sheet '{sheet_name}': Extracted {sheet_extracted}/{sheet_images} images\")\n",
    "        \n",
    "        wb.close()\n",
    "        gc.collect()\n",
    "        \n",
    "        print(f\"✅ Completed processing file: {file_name_clean}\")\n",
    "        print(f\"📊 Total extracted {extracted_images}/{total_images} images\")\n",
    "        return True\n",
    "    except Exception as e:\n",
    "        print(f\"❌ Error processing file '{file_path}': {str(e)}\")\n",
    "        return False\n",
    "\n",
    "def process_excel_folder(folder_path, export_folder):\n",
    "    \"\"\"Process all Excel files in a folder and extract images from them.\"\"\"\n",
    "    output_folder = os.path.join(export_folder, \"Extract Images\")\n",
    "    os.makedirs(output_folder, exist_ok=True)\n",
    "    \n",
    "    excel_files = [os.path.join(folder_path, f) for f in os.listdir(folder_path) if f.endswith(('.xlsx', '.xlsm'))]\n",
    "    \n",
    "    if not excel_files:\n",
    "        print(\"⚠️ No Excel files found in the specified folder.\")\n",
    "        return\n",
    "    \n",
    "    print(f\"🔍 Found {len(excel_files)} Excel files to process.\")\n",
    "    print(f\"🗂️ Images will be saved to: {output_folder}\")\n",
    "    \n",
    "    successful_files = 0\n",
    "    failed_files = []\n",
    "    \n",
    "    for i, file_path in enumerate(excel_files, 1):\n",
    "        file_name = os.path.basename(file_path)\n",
    "        print(f\"\\n📊 Processing file {i}/{len(excel_files)}: {file_name}\")\n",
    "        if extract_images_from_excel(file_path, output_folder):\n",
    "            successful_files += 1\n",
    "        else:\n",
    "            failed_files.append(file_name)\n",
    "    \n",
    "    print(\"\\n\" + \"=\"*50)\n",
    "    print(\"📈 PROCESSING SUMMARY\")\n",
    "    print(\"=\"*50)\n",
    "    print(f\"Total files: {len(excel_files)}\")\n",
    "    print(f\"Successfully processed: {successful_files}\")\n",
    "    print(f\"Failed to process: {len(failed_files)}\")\n",
    "    print(f\"Images saved to: {output_folder}\")\n",
    "    \n",
    "    if failed_files:\n",
    "        print(\"\\nFiles that could not be processed:\")\n",
    "        for file in failed_files:\n",
    "            print(f\"- {file}\")"
   ]
  },
  {
   "cell_type": "markdown",
   "metadata": {},
   "source": [
    "### 2.2. Run Function"
   ]
  },
  {
   "cell_type": "code",
   "execution_count": 5,
   "metadata": {},
   "outputs": [
    {
     "name": "stdout",
     "output_type": "stream",
     "text": [
      "🔍 Found 32 Excel files to process.\n",
      "🗂️ Images will be saved to: C:\\Users\\kanzi\\Documents\\Part Time Job\\Automation Codes\\check_photo\\Extract Images\n",
      "\n",
      "📊 Processing file 1/32: 01. Cileungsi - Cibeet.xlsx\n"
     ]
    },
    {
     "name": "stderr",
     "output_type": "stream",
     "text": [
      "c:\\Users\\kanzi\\AppData\\Local\\Programs\\Python\\Python312\\Lib\\site-packages\\openpyxl\\worksheet\\_reader.py:329: UserWarning: Conditional Formatting extension is not supported and will be removed\n",
      "  warn(msg)\n"
     ]
    },
    {
     "name": "stdout",
     "output_type": "stream",
     "text": [
      "📄 Handling 19 merged cells in sheet 'RAMBU'\n",
      "📄 Converting sheet 'RAMBU' to DataFrame\n",
      "🔍 Found 1 'DOKUMENTASI' columns in sheet 'RAMBU'\n",
      "🔍 Found 172 images in sheet 'RAMBU'\n"
     ]
    },
    {
     "ename": "KeyboardInterrupt",
     "evalue": "",
     "output_type": "error",
     "traceback": [
      "\u001b[1;31m---------------------------------------------------------------------------\u001b[0m",
      "\u001b[1;31mAttributeError\u001b[0m                            Traceback (most recent call last)",
      "File \u001b[1;32mc:\\Users\\kanzi\\AppData\\Local\\Programs\\Python\\Python312\\Lib\\site-packages\\PIL\\ImageFile.py:515\u001b[0m, in \u001b[0;36m_save\u001b[1;34m(im, fp, tile, bufsize)\u001b[0m\n\u001b[0;32m    514\u001b[0m \u001b[38;5;28;01mtry\u001b[39;00m:\n\u001b[1;32m--> 515\u001b[0m     fh \u001b[38;5;241m=\u001b[39m \u001b[43mfp\u001b[49m\u001b[38;5;241;43m.\u001b[39;49m\u001b[43mfileno\u001b[49m()\n\u001b[0;32m    516\u001b[0m     fp\u001b[38;5;241m.\u001b[39mflush()\n",
      "\u001b[1;31mAttributeError\u001b[0m: '_idat' object has no attribute 'fileno'",
      "\nDuring handling of the above exception, another exception occurred:\n",
      "\u001b[1;31mKeyboardInterrupt\u001b[0m                         Traceback (most recent call last)",
      "Cell \u001b[1;32mIn[5], line 3\u001b[0m\n\u001b[0;32m      1\u001b[0m excel_folder \u001b[38;5;241m=\u001b[39m \u001b[38;5;124mr\u001b[39m\u001b[38;5;124m\"\u001b[39m\u001b[38;5;124mC:\u001b[39m\u001b[38;5;124m\\\u001b[39m\u001b[38;5;124mUsers\u001b[39m\u001b[38;5;124m\\\u001b[39m\u001b[38;5;124mkanzi\u001b[39m\u001b[38;5;124m\\\u001b[39m\u001b[38;5;124mDocuments\u001b[39m\u001b[38;5;124m\\\u001b[39m\u001b[38;5;124mPart Time Job\u001b[39m\u001b[38;5;124m\\\u001b[39m\u001b[38;5;124mAutomation Codes\u001b[39m\u001b[38;5;124m\\\u001b[39m\u001b[38;5;124mExcel Folder\u001b[39m\u001b[38;5;124m\"\u001b[39m  \u001b[38;5;66;03m# Fill with the path file of excel folder\u001b[39;00m\n\u001b[0;32m      2\u001b[0m export_folder \u001b[38;5;241m=\u001b[39m \u001b[38;5;124mr\u001b[39m\u001b[38;5;124m\"\u001b[39m\u001b[38;5;124mC:\u001b[39m\u001b[38;5;124m\\\u001b[39m\u001b[38;5;124mUsers\u001b[39m\u001b[38;5;124m\\\u001b[39m\u001b[38;5;124mkanzi\u001b[39m\u001b[38;5;124m\\\u001b[39m\u001b[38;5;124mDocuments\u001b[39m\u001b[38;5;124m\\\u001b[39m\u001b[38;5;124mPart Time Job\u001b[39m\u001b[38;5;124m\\\u001b[39m\u001b[38;5;124mAutomation Codes\u001b[39m\u001b[38;5;124m\\\u001b[39m\u001b[38;5;124mcheck_photo\u001b[39m\u001b[38;5;124m\"\u001b[39m  \u001b[38;5;66;03m# Fill with the path folder of export result\u001b[39;00m\n\u001b[1;32m----> 3\u001b[0m \u001b[43mprocess_excel_folder\u001b[49m\u001b[43m(\u001b[49m\u001b[43mexcel_folder\u001b[49m\u001b[43m,\u001b[49m\u001b[43m \u001b[49m\u001b[43mexport_folder\u001b[49m\u001b[43m)\u001b[49m \u001b[38;5;66;03m# Run the function!\u001b[39;00m\n",
      "Cell \u001b[1;32mIn[4], line 134\u001b[0m, in \u001b[0;36mprocess_excel_folder\u001b[1;34m(folder_path, export_folder)\u001b[0m\n\u001b[0;32m    132\u001b[0m file_name \u001b[38;5;241m=\u001b[39m os\u001b[38;5;241m.\u001b[39mpath\u001b[38;5;241m.\u001b[39mbasename(file_path)\n\u001b[0;32m    133\u001b[0m \u001b[38;5;28mprint\u001b[39m(\u001b[38;5;124mf\u001b[39m\u001b[38;5;124m\"\u001b[39m\u001b[38;5;130;01m\\n\u001b[39;00m\u001b[38;5;124m📊 Processing file \u001b[39m\u001b[38;5;132;01m{\u001b[39;00mi\u001b[38;5;132;01m}\u001b[39;00m\u001b[38;5;124m/\u001b[39m\u001b[38;5;132;01m{\u001b[39;00m\u001b[38;5;28mlen\u001b[39m(excel_files)\u001b[38;5;132;01m}\u001b[39;00m\u001b[38;5;124m: \u001b[39m\u001b[38;5;132;01m{\u001b[39;00mfile_name\u001b[38;5;132;01m}\u001b[39;00m\u001b[38;5;124m\"\u001b[39m)\n\u001b[1;32m--> 134\u001b[0m \u001b[38;5;28;01mif\u001b[39;00m \u001b[43mextract_images_from_excel\u001b[49m\u001b[43m(\u001b[49m\u001b[43mfile_path\u001b[49m\u001b[43m,\u001b[49m\u001b[43m \u001b[49m\u001b[43moutput_folder\u001b[49m\u001b[43m)\u001b[49m:\n\u001b[0;32m    135\u001b[0m     successful_files \u001b[38;5;241m+\u001b[39m\u001b[38;5;241m=\u001b[39m \u001b[38;5;241m1\u001b[39m\n\u001b[0;32m    136\u001b[0m \u001b[38;5;28;01melse\u001b[39;00m:\n",
      "Cell \u001b[1;32mIn[4], line 96\u001b[0m, in \u001b[0;36mextract_images_from_excel\u001b[1;34m(file_path, output_folder)\u001b[0m\n\u001b[0;32m     94\u001b[0m img \u001b[38;5;241m=\u001b[39m image_loader\u001b[38;5;241m.\u001b[39mget(img_info[\u001b[38;5;124m'\u001b[39m\u001b[38;5;124mcell_address\u001b[39m\u001b[38;5;124m'\u001b[39m])\n\u001b[0;32m     95\u001b[0m img_path \u001b[38;5;241m=\u001b[39m os\u001b[38;5;241m.\u001b[39mpath\u001b[38;5;241m.\u001b[39mjoin(output_folder, \u001b[38;5;124mf\u001b[39m\u001b[38;5;124m\"\u001b[39m\u001b[38;5;132;01m{\u001b[39;00mfile_name_clean\u001b[38;5;132;01m}\u001b[39;00m\u001b[38;5;124m_Sheet_\u001b[39m\u001b[38;5;132;01m{\u001b[39;00msheet_name\u001b[38;5;132;01m}\u001b[39;00m\u001b[38;5;124m_Column_\u001b[39m\u001b[38;5;132;01m{\u001b[39;00mimg_info[\u001b[38;5;124m'\u001b[39m\u001b[38;5;124mcol_name\u001b[39m\u001b[38;5;124m'\u001b[39m]\u001b[38;5;132;01m}\u001b[39;00m\u001b[38;5;124m_Row_\u001b[39m\u001b[38;5;132;01m{\u001b[39;00mimg_info[\u001b[38;5;124m'\u001b[39m\u001b[38;5;124mrow_idx\u001b[39m\u001b[38;5;124m'\u001b[39m]\u001b[38;5;132;01m}\u001b[39;00m\u001b[38;5;124m.png\u001b[39m\u001b[38;5;124m\"\u001b[39m)\n\u001b[1;32m---> 96\u001b[0m \u001b[43mimg\u001b[49m\u001b[38;5;241;43m.\u001b[39;49m\u001b[43msave\u001b[49m\u001b[43m(\u001b[49m\u001b[43mimg_path\u001b[49m\u001b[43m,\u001b[49m\u001b[43m \u001b[49m\u001b[38;5;28;43mformat\u001b[39;49m\u001b[38;5;241;43m=\u001b[39;49m\u001b[38;5;124;43m\"\u001b[39;49m\u001b[38;5;124;43mPNG\u001b[39;49m\u001b[38;5;124;43m\"\u001b[39;49m\u001b[43m)\u001b[49m\n\u001b[0;32m     97\u001b[0m sheet_extracted \u001b[38;5;241m+\u001b[39m\u001b[38;5;241m=\u001b[39m \u001b[38;5;241m1\u001b[39m\n\u001b[0;32m     98\u001b[0m extracted_images \u001b[38;5;241m+\u001b[39m\u001b[38;5;241m=\u001b[39m \u001b[38;5;241m1\u001b[39m\n",
      "File \u001b[1;32mc:\\Users\\kanzi\\AppData\\Local\\Programs\\Python\\Python312\\Lib\\site-packages\\PIL\\Image.py:2438\u001b[0m, in \u001b[0;36mImage.save\u001b[1;34m(self, fp, format, **params)\u001b[0m\n\u001b[0;32m   2435\u001b[0m         fp \u001b[38;5;241m=\u001b[39m builtins\u001b[38;5;241m.\u001b[39mopen(filename, \u001b[38;5;124m\"\u001b[39m\u001b[38;5;124mw+b\u001b[39m\u001b[38;5;124m\"\u001b[39m)\n\u001b[0;32m   2437\u001b[0m \u001b[38;5;28;01mtry\u001b[39;00m:\n\u001b[1;32m-> 2438\u001b[0m     \u001b[43msave_handler\u001b[49m\u001b[43m(\u001b[49m\u001b[38;5;28;43mself\u001b[39;49m\u001b[43m,\u001b[49m\u001b[43m \u001b[49m\u001b[43mfp\u001b[49m\u001b[43m,\u001b[49m\u001b[43m \u001b[49m\u001b[43mfilename\u001b[49m\u001b[43m)\u001b[49m\n\u001b[0;32m   2439\u001b[0m \u001b[38;5;28;01mexcept\u001b[39;00m \u001b[38;5;167;01mException\u001b[39;00m:\n\u001b[0;32m   2440\u001b[0m     \u001b[38;5;28;01mif\u001b[39;00m open_fp:\n",
      "File \u001b[1;32mc:\\Users\\kanzi\\AppData\\Local\\Programs\\Python\\Python312\\Lib\\site-packages\\PIL\\PngImagePlugin.py:1394\u001b[0m, in \u001b[0;36m_save\u001b[1;34m(im, fp, filename, chunk, save_all)\u001b[0m\n\u001b[0;32m   1392\u001b[0m     _write_multiple_frames(im, fp, chunk, rawmode, default_image, append_images)\n\u001b[0;32m   1393\u001b[0m \u001b[38;5;28;01melse\u001b[39;00m:\n\u001b[1;32m-> 1394\u001b[0m     \u001b[43mImageFile\u001b[49m\u001b[38;5;241;43m.\u001b[39;49m\u001b[43m_save\u001b[49m\u001b[43m(\u001b[49m\u001b[43mim\u001b[49m\u001b[43m,\u001b[49m\u001b[43m \u001b[49m\u001b[43m_idat\u001b[49m\u001b[43m(\u001b[49m\u001b[43mfp\u001b[49m\u001b[43m,\u001b[49m\u001b[43m \u001b[49m\u001b[43mchunk\u001b[49m\u001b[43m)\u001b[49m\u001b[43m,\u001b[49m\u001b[43m \u001b[49m\u001b[43m[\u001b[49m\u001b[43m(\u001b[49m\u001b[38;5;124;43m\"\u001b[39;49m\u001b[38;5;124;43mzip\u001b[39;49m\u001b[38;5;124;43m\"\u001b[39;49m\u001b[43m,\u001b[49m\u001b[43m \u001b[49m\u001b[43m(\u001b[49m\u001b[38;5;241;43m0\u001b[39;49m\u001b[43m,\u001b[49m\u001b[43m \u001b[49m\u001b[38;5;241;43m0\u001b[39;49m\u001b[43m)\u001b[49m\u001b[43m \u001b[49m\u001b[38;5;241;43m+\u001b[39;49m\u001b[43m \u001b[49m\u001b[43mim\u001b[49m\u001b[38;5;241;43m.\u001b[39;49m\u001b[43msize\u001b[49m\u001b[43m,\u001b[49m\u001b[43m \u001b[49m\u001b[38;5;241;43m0\u001b[39;49m\u001b[43m,\u001b[49m\u001b[43m \u001b[49m\u001b[43mrawmode\u001b[49m\u001b[43m)\u001b[49m\u001b[43m]\u001b[49m\u001b[43m)\u001b[49m\n\u001b[0;32m   1396\u001b[0m \u001b[38;5;28;01mif\u001b[39;00m info:\n\u001b[0;32m   1397\u001b[0m     \u001b[38;5;28;01mfor\u001b[39;00m info_chunk \u001b[38;5;129;01min\u001b[39;00m info\u001b[38;5;241m.\u001b[39mchunks:\n",
      "File \u001b[1;32mc:\\Users\\kanzi\\AppData\\Local\\Programs\\Python\\Python312\\Lib\\site-packages\\PIL\\ImageFile.py:519\u001b[0m, in \u001b[0;36m_save\u001b[1;34m(im, fp, tile, bufsize)\u001b[0m\n\u001b[0;32m    517\u001b[0m     _encode_tile(im, fp, tile, bufsize, fh)\n\u001b[0;32m    518\u001b[0m \u001b[38;5;28;01mexcept\u001b[39;00m (\u001b[38;5;167;01mAttributeError\u001b[39;00m, io\u001b[38;5;241m.\u001b[39mUnsupportedOperation) \u001b[38;5;28;01mas\u001b[39;00m exc:\n\u001b[1;32m--> 519\u001b[0m     \u001b[43m_encode_tile\u001b[49m\u001b[43m(\u001b[49m\u001b[43mim\u001b[49m\u001b[43m,\u001b[49m\u001b[43m \u001b[49m\u001b[43mfp\u001b[49m\u001b[43m,\u001b[49m\u001b[43m \u001b[49m\u001b[43mtile\u001b[49m\u001b[43m,\u001b[49m\u001b[43m \u001b[49m\u001b[43mbufsize\u001b[49m\u001b[43m,\u001b[49m\u001b[43m \u001b[49m\u001b[38;5;28;43;01mNone\u001b[39;49;00m\u001b[43m,\u001b[49m\u001b[43m \u001b[49m\u001b[43mexc\u001b[49m\u001b[43m)\u001b[49m\n\u001b[0;32m    520\u001b[0m \u001b[38;5;28;01mif\u001b[39;00m \u001b[38;5;28mhasattr\u001b[39m(fp, \u001b[38;5;124m\"\u001b[39m\u001b[38;5;124mflush\u001b[39m\u001b[38;5;124m\"\u001b[39m):\n\u001b[0;32m    521\u001b[0m     fp\u001b[38;5;241m.\u001b[39mflush()\n",
      "File \u001b[1;32mc:\\Users\\kanzi\\AppData\\Local\\Programs\\Python\\Python312\\Lib\\site-packages\\PIL\\ImageFile.py:538\u001b[0m, in \u001b[0;36m_encode_tile\u001b[1;34m(im, fp, tile, bufsize, fh, exc)\u001b[0m\n\u001b[0;32m    535\u001b[0m \u001b[38;5;28;01mif\u001b[39;00m exc:\n\u001b[0;32m    536\u001b[0m     \u001b[38;5;66;03m# compress to Python file-compatible object\u001b[39;00m\n\u001b[0;32m    537\u001b[0m     \u001b[38;5;28;01mwhile\u001b[39;00m \u001b[38;5;28;01mTrue\u001b[39;00m:\n\u001b[1;32m--> 538\u001b[0m         errcode, data \u001b[38;5;241m=\u001b[39m \u001b[43mencoder\u001b[49m\u001b[38;5;241;43m.\u001b[39;49m\u001b[43mencode\u001b[49m\u001b[43m(\u001b[49m\u001b[43mbufsize\u001b[49m\u001b[43m)\u001b[49m[\u001b[38;5;241m1\u001b[39m:]\n\u001b[0;32m    539\u001b[0m         fp\u001b[38;5;241m.\u001b[39mwrite(data)\n\u001b[0;32m    540\u001b[0m         \u001b[38;5;28;01mif\u001b[39;00m errcode:\n",
      "\u001b[1;31mKeyboardInterrupt\u001b[0m: "
     ]
    }
   ],
   "source": [
    "excel_folder = r\"C:\\Users\\kanzi\\Documents\\Part Time Job\\Automation Codes\\Excel Folder\"  # Fill with the path file of excel folder\n",
    "export_folder = r\"C:\\Users\\kanzi\\Documents\\Part Time Job\\Automation Codes\\check_photo\"  # Fill with the path folder of export result\n",
    "process_excel_folder(excel_folder, export_folder) # Run the function!"
   ]
  }
 ],
 "metadata": {
  "kernelspec": {
   "display_name": "Python 3",
   "language": "python",
   "name": "python3"
  },
  "language_info": {
   "codemirror_mode": {
    "name": "ipython",
    "version": 3
   },
   "file_extension": ".py",
   "mimetype": "text/x-python",
   "name": "python",
   "nbconvert_exporter": "python",
   "pygments_lexer": "ipython3",
   "version": "3.12.0"
  }
 },
 "nbformat": 4,
 "nbformat_minor": 2
}
